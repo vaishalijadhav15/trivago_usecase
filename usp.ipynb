{
 "cells": [
  {
   "cell_type": "code",
   "execution_count": null,
   "metadata": {},
   "outputs": [],
   "source": [
    "athena_db = 'trivago'\n",
    "s3_bucket = ''\n",
    "date = '2019-08-01'"
   ]
  },
  {
   "cell_type": "code",
   "execution_count": null,
   "metadata": {},
   "outputs": [],
   "source": [
    "import awswrangler\n",
    "session = awswrangler.Session()"
   ]
  },
  {
   "cell_type": "code",
   "execution_count": null,
   "metadata": {},
   "outputs": [],
   "source": [
    "import pandas"
   ]
  },
  {
   "cell_type": "markdown",
   "metadata": {},
   "source": [
    "# Get USPs per accommodation and add destination_id"
   ]
  },
  {
   "cell_type": "code",
   "execution_count": null,
   "metadata": {},
   "outputs": [],
   "source": [
    "def get_destination_ids(accommodation_ids):\n",
    "    with open('query.sql') as f:\n",
    "        df = session.pandas.read_sql_athena(\n",
    "            sql=f.read().format(date=repr(date)),\n",
    "            database=athena_db\n",
    "        )\n",
    "        \n",
    "    return df[df.accommodation_id.isin(accommodation_ids)]"
   ]
  },
  {
   "cell_type": "code",
   "execution_count": null,
   "metadata": {},
   "outputs": [],
   "source": [
    "def get_filtered_usps():\n",
    "    df = session.pandas.read_sql_athena(\n",
    "        sql=\"SELECT * FROM unique_selling_points WHERE date = {date}\".format(date=repr(date)),\n",
    "        database=athena_db\n",
    "    )\n",
    "    \n",
    "    return df"
   ]
  },
  {
   "cell_type": "code",
   "execution_count": null,
   "metadata": {},
   "outputs": [],
   "source": [
    "usp_df = get_filtered_usps()\n",
    "destination_ids = get_destination_ids(usp_df[\"accommodation_id\"].values)\n",
    "usp_df = usp_df.merge(destination_ids, how=\"left\", on=\"accommodation_id\")"
   ]
  },
  {
   "cell_type": "code",
   "execution_count": null,
   "metadata": {
    "scrolled": true
   },
   "outputs": [],
   "source": [
    "usp_df.sample(5)"
   ]
  },
  {
   "cell_type": "code",
   "execution_count": null,
   "metadata": {},
   "outputs": [],
   "source": [
    "usp_df.groupby(\"usp\")['destination_id'].nunique().sort_values(ascending=False)"
   ]
  },
  {
   "cell_type": "code",
   "execution_count": null,
   "metadata": {},
   "outputs": [],
   "source": [
    "session.pandas.to_parquet(\n",
    "    dataframe=usp_df,\n",
    "    path=f\"s3://{s3_bucket}/usp/output\",\n",
    "    partition_cols=[\"date\"],\n",
    ")"
   ]
  }
 ],
 "metadata": {
  "kernelspec": {
   "display_name": "Python 3",
   "language": "python",
   "name": "python3"
  },
  "language_info": {
   "codemirror_mode": {
    "name": "ipython",
    "version": 3
   },
   "file_extension": ".py",
   "mimetype": "text/x-python",
   "name": "python",
   "nbconvert_exporter": "python",
   "pygments_lexer": "ipython3",
   "version": "3.6.7"
  },
  "toc": {
   "nav_menu": {},
   "number_sections": true,
   "sideBar": true,
   "skip_h1_title": false,
   "toc_cell": false,
   "toc_position": {},
   "toc_section_display": "block",
   "toc_window_display": false
  }
 },
 "nbformat": 4,
 "nbformat_minor": 2
}
